{
 "cells": [
  {
   "cell_type": "markdown",
   "id": "9931981f",
   "metadata": {},
   "source": [
    "# TASK 2"
   ]
  },
  {
   "cell_type": "markdown",
   "id": "44d317d5",
   "metadata": {},
   "source": [
    "### About Dataset"
   ]
  },
  {
   "cell_type": "markdown",
   "id": "4cded9e6",
   "metadata": {},
   "source": [
    "#### Task Details\n",
    "**Every dataset has a story and this set is pulled from IMDb.com of all the Indian movies on the platform. Clean this data by removing missing values or adding average values this process will help to manipulate the data to help with your EDA.**"
   ]
  },
  {
   "cell_type": "markdown",
   "id": "ceb2e7eb",
   "metadata": {},
   "source": [
    "**Analyze data and provide some trends**\n",
    "- Year with best rating\n",
    "- Does length of movie have any impact with the rating?\n",
    "- Top 10 movies according to rating per year and overall.\n",
    "- Number of popular movies released each year.\n",
    "- Counting the number of votes which movies preformed better in rating per year and overall.\n",
    "- Any other trends or future prediction you may have\n",
    "- Which director directed the most movies\n",
    "- Which actor starred in the movie\n",
    "- Any other trends you can find\n",
    "\n",
    "**The Goal**\n",
    "\n",
    "To find answers for this quastion & build Machine Learning model for predicting the rating of a movie based on features.."
   ]
  },
  {
   "cell_type": "markdown",
   "id": "3232a444",
   "metadata": {},
   "source": [
    "# Data Understanding"
   ]
  },
  {
   "cell_type": "code",
   "execution_count": 1,
   "id": "d1404a12",
   "metadata": {},
   "outputs": [],
   "source": [
    "import numpy as np\n",
    "import pandas as pd\n",
    "import matplotlib.pyplot as plt\n",
    "import seaborn as sns\n",
    "import warnings\n",
    "warnings.filterwarnings(\"ignore\")"
   ]
  },
  {
   "cell_type": "code",
   "execution_count": 2,
   "id": "f5047f18",
   "metadata": {},
   "outputs": [
    {
     "data": {
      "text/html": [
       "<div>\n",
       "<style scoped>\n",
       "    .dataframe tbody tr th:only-of-type {\n",
       "        vertical-align: middle;\n",
       "    }\n",
       "\n",
       "    .dataframe tbody tr th {\n",
       "        vertical-align: top;\n",
       "    }\n",
       "\n",
       "    .dataframe thead th {\n",
       "        text-align: right;\n",
       "    }\n",
       "</style>\n",
       "<table border=\"1\" class=\"dataframe\">\n",
       "  <thead>\n",
       "    <tr style=\"text-align: right;\">\n",
       "      <th></th>\n",
       "      <th>Name</th>\n",
       "      <th>Year</th>\n",
       "      <th>Duration</th>\n",
       "      <th>Genre</th>\n",
       "      <th>Rating</th>\n",
       "      <th>Votes</th>\n",
       "      <th>Director</th>\n",
       "      <th>Actor 1</th>\n",
       "      <th>Actor 2</th>\n",
       "      <th>Actor 3</th>\n",
       "    </tr>\n",
       "  </thead>\n",
       "  <tbody>\n",
       "    <tr>\n",
       "      <th>0</th>\n",
       "      <td></td>\n",
       "      <td>NaN</td>\n",
       "      <td>NaN</td>\n",
       "      <td>Drama</td>\n",
       "      <td>NaN</td>\n",
       "      <td>NaN</td>\n",
       "      <td>J.S. Randhawa</td>\n",
       "      <td>Manmauji</td>\n",
       "      <td>Birbal</td>\n",
       "      <td>Rajendra Bhatia</td>\n",
       "    </tr>\n",
       "    <tr>\n",
       "      <th>1</th>\n",
       "      <td>#Gadhvi (He thought he was Gandhi)</td>\n",
       "      <td>-2019.0</td>\n",
       "      <td>109 min</td>\n",
       "      <td>Drama</td>\n",
       "      <td>7.0</td>\n",
       "      <td>8</td>\n",
       "      <td>Gaurav Bakshi</td>\n",
       "      <td>Rasika Dugal</td>\n",
       "      <td>Vivek Ghamande</td>\n",
       "      <td>Arvind Jangid</td>\n",
       "    </tr>\n",
       "    <tr>\n",
       "      <th>2</th>\n",
       "      <td>#Homecoming</td>\n",
       "      <td>-2021.0</td>\n",
       "      <td>90 min</td>\n",
       "      <td>Drama, Musical</td>\n",
       "      <td>NaN</td>\n",
       "      <td>NaN</td>\n",
       "      <td>Soumyajit Majumdar</td>\n",
       "      <td>Sayani Gupta</td>\n",
       "      <td>Plabita Borthakur</td>\n",
       "      <td>Roy Angana</td>\n",
       "    </tr>\n",
       "    <tr>\n",
       "      <th>3</th>\n",
       "      <td>#Yaaram</td>\n",
       "      <td>-2019.0</td>\n",
       "      <td>110 min</td>\n",
       "      <td>Comedy, Romance</td>\n",
       "      <td>4.4</td>\n",
       "      <td>35</td>\n",
       "      <td>Ovais Khan</td>\n",
       "      <td>Prateik</td>\n",
       "      <td>Ishita Raj</td>\n",
       "      <td>Siddhant Kapoor</td>\n",
       "    </tr>\n",
       "    <tr>\n",
       "      <th>4</th>\n",
       "      <td>...And Once Again</td>\n",
       "      <td>-2010.0</td>\n",
       "      <td>105 min</td>\n",
       "      <td>Drama</td>\n",
       "      <td>NaN</td>\n",
       "      <td>NaN</td>\n",
       "      <td>Amol Palekar</td>\n",
       "      <td>Rajat Kapoor</td>\n",
       "      <td>Rituparna Sengupta</td>\n",
       "      <td>Antara Mali</td>\n",
       "    </tr>\n",
       "  </tbody>\n",
       "</table>\n",
       "</div>"
      ],
      "text/plain": [
       "                                 Name    Year Duration            Genre  \\\n",
       "0                                         NaN      NaN            Drama   \n",
       "1  #Gadhvi (He thought he was Gandhi) -2019.0  109 min            Drama   \n",
       "2                         #Homecoming -2021.0   90 min   Drama, Musical   \n",
       "3                             #Yaaram -2019.0  110 min  Comedy, Romance   \n",
       "4                   ...And Once Again -2010.0  105 min            Drama   \n",
       "\n",
       "   Rating Votes            Director       Actor 1             Actor 2  \\\n",
       "0     NaN   NaN       J.S. Randhawa      Manmauji              Birbal   \n",
       "1     7.0     8       Gaurav Bakshi  Rasika Dugal      Vivek Ghamande   \n",
       "2     NaN   NaN  Soumyajit Majumdar  Sayani Gupta   Plabita Borthakur   \n",
       "3     4.4    35          Ovais Khan       Prateik          Ishita Raj   \n",
       "4     NaN   NaN        Amol Palekar  Rajat Kapoor  Rituparna Sengupta   \n",
       "\n",
       "           Actor 3  \n",
       "0  Rajendra Bhatia  \n",
       "1    Arvind Jangid  \n",
       "2       Roy Angana  \n",
       "3  Siddhant Kapoor  \n",
       "4      Antara Mali  "
      ]
     },
     "execution_count": 2,
     "metadata": {},
     "output_type": "execute_result"
    }
   ],
   "source": [
    "path = 'IMDb Movies India.csv'\n",
    "df = pd.read_csv(path, encoding='latin-1')\n",
    "df.head()"
   ]
  },
  {
   "cell_type": "code",
   "execution_count": 3,
   "id": "f4cbca55",
   "metadata": {},
   "outputs": [
    {
     "name": "stdout",
     "output_type": "stream",
     "text": [
      "<class 'pandas.core.frame.DataFrame'>\n",
      "RangeIndex: 15509 entries, 0 to 15508\n",
      "Data columns (total 10 columns):\n",
      " #   Column    Non-Null Count  Dtype  \n",
      "---  ------    --------------  -----  \n",
      " 0   Name      15509 non-null  object \n",
      " 1   Year      14980 non-null  float64\n",
      " 2   Duration  7241 non-null   object \n",
      " 3   Genre     13632 non-null  object \n",
      " 4   Rating    7919 non-null   float64\n",
      " 5   Votes     7920 non-null   object \n",
      " 6   Director  14984 non-null  object \n",
      " 7   Actor 1   13892 non-null  object \n",
      " 8   Actor 2   13124 non-null  object \n",
      " 9   Actor 3   12356 non-null  object \n",
      "dtypes: float64(2), object(8)\n",
      "memory usage: 1.2+ MB\n"
     ]
    }
   ],
   "source": [
    "df.info()"
   ]
  },
  {
   "cell_type": "code",
   "execution_count": 4,
   "id": "92e88cb4",
   "metadata": {},
   "outputs": [
    {
     "name": "stdout",
     "output_type": "stream",
     "text": [
      "Data Contains 15509 Movies, 10 Features.\n"
     ]
    }
   ],
   "source": [
    "print(f\"Data Contains {df.shape[0]} Movies, {df.shape[1]} Features.\")"
   ]
  },
  {
   "cell_type": "code",
   "execution_count": 5,
   "id": "e3525646",
   "metadata": {},
   "outputs": [
    {
     "name": "stdout",
     "output_type": "stream",
     "text": [
      "Duplicated Rows: 6\n"
     ]
    }
   ],
   "source": [
    "print(\"Duplicated Rows:\",df.duplicated().sum())"
   ]
  },
  {
   "cell_type": "code",
   "execution_count": 6,
   "id": "b7b59a3c",
   "metadata": {},
   "outputs": [
    {
     "data": {
      "text/html": [
       "<div>\n",
       "<style scoped>\n",
       "    .dataframe tbody tr th:only-of-type {\n",
       "        vertical-align: middle;\n",
       "    }\n",
       "\n",
       "    .dataframe tbody tr th {\n",
       "        vertical-align: top;\n",
       "    }\n",
       "\n",
       "    .dataframe thead th {\n",
       "        text-align: right;\n",
       "    }\n",
       "</style>\n",
       "<table border=\"1\" class=\"dataframe\">\n",
       "  <thead>\n",
       "    <tr style=\"text-align: right;\">\n",
       "      <th></th>\n",
       "      <th>Name</th>\n",
       "      <th>Year</th>\n",
       "      <th>Duration</th>\n",
       "      <th>Genre</th>\n",
       "      <th>Rating</th>\n",
       "      <th>Votes</th>\n",
       "      <th>Director</th>\n",
       "      <th>Actor 1</th>\n",
       "      <th>Actor 2</th>\n",
       "      <th>Actor 3</th>\n",
       "    </tr>\n",
       "  </thead>\n",
       "  <tbody>\n",
       "    <tr>\n",
       "      <th>1250</th>\n",
       "      <td>Arab Ka Sona - Abu Kaalia</td>\n",
       "      <td>-1979.0</td>\n",
       "      <td>NaN</td>\n",
       "      <td>Action</td>\n",
       "      <td>NaN</td>\n",
       "      <td>NaN</td>\n",
       "      <td>Master Bhagwan</td>\n",
       "      <td>Meena Rai</td>\n",
       "      <td>Dara Singh</td>\n",
       "      <td>NaN</td>\n",
       "    </tr>\n",
       "    <tr>\n",
       "      <th>1769</th>\n",
       "      <td>Balidan</td>\n",
       "      <td>-1992.0</td>\n",
       "      <td>NaN</td>\n",
       "      <td>Drama</td>\n",
       "      <td>NaN</td>\n",
       "      <td>NaN</td>\n",
       "      <td>NaN</td>\n",
       "      <td>NaN</td>\n",
       "      <td>NaN</td>\n",
       "      <td>NaN</td>\n",
       "    </tr>\n",
       "    <tr>\n",
       "      <th>4723</th>\n",
       "      <td>First Time - Pehli Baar</td>\n",
       "      <td>-2009.0</td>\n",
       "      <td>NaN</td>\n",
       "      <td>NaN</td>\n",
       "      <td>NaN</td>\n",
       "      <td>NaN</td>\n",
       "      <td>Raja Bundela</td>\n",
       "      <td>Zeenat Aman</td>\n",
       "      <td>Nitin Arora</td>\n",
       "      <td>Raj Babbar</td>\n",
       "    </tr>\n",
       "    <tr>\n",
       "      <th>9713</th>\n",
       "      <td>Musafir</td>\n",
       "      <td>NaN</td>\n",
       "      <td>NaN</td>\n",
       "      <td>Thriller</td>\n",
       "      <td>NaN</td>\n",
       "      <td>NaN</td>\n",
       "      <td>Shiva Dagar</td>\n",
       "      <td>NaN</td>\n",
       "      <td>NaN</td>\n",
       "      <td>NaN</td>\n",
       "    </tr>\n",
       "    <tr>\n",
       "      <th>13069</th>\n",
       "      <td>Shivani</td>\n",
       "      <td>-2019.0</td>\n",
       "      <td>NaN</td>\n",
       "      <td>Crime</td>\n",
       "      <td>NaN</td>\n",
       "      <td>NaN</td>\n",
       "      <td>Ugresh Prasad Ujala</td>\n",
       "      <td>Santosh</td>\n",
       "      <td>NaN</td>\n",
       "      <td>NaN</td>\n",
       "    </tr>\n",
       "    <tr>\n",
       "      <th>13308</th>\n",
       "      <td>Slumdog Karodpati</td>\n",
       "      <td>-2019.0</td>\n",
       "      <td>118 min</td>\n",
       "      <td>Thriller</td>\n",
       "      <td>NaN</td>\n",
       "      <td>NaN</td>\n",
       "      <td>Rajesh Patole</td>\n",
       "      <td>Udhav Garje</td>\n",
       "      <td>Rahul Gavane</td>\n",
       "      <td>Govindrao</td>\n",
       "    </tr>\n",
       "  </tbody>\n",
       "</table>\n",
       "</div>"
      ],
      "text/plain": [
       "                            Name    Year Duration     Genre  Rating Votes  \\\n",
       "1250   Arab Ka Sona - Abu Kaalia -1979.0      NaN    Action     NaN   NaN   \n",
       "1769                     Balidan -1992.0      NaN     Drama     NaN   NaN   \n",
       "4723     First Time - Pehli Baar -2009.0      NaN       NaN     NaN   NaN   \n",
       "9713                     Musafir     NaN      NaN  Thriller     NaN   NaN   \n",
       "13069                    Shivani -2019.0      NaN     Crime     NaN   NaN   \n",
       "13308          Slumdog Karodpati -2019.0  118 min  Thriller     NaN   NaN   \n",
       "\n",
       "                  Director      Actor 1       Actor 2     Actor 3  \n",
       "1250        Master Bhagwan    Meena Rai    Dara Singh         NaN  \n",
       "1769                   NaN          NaN           NaN         NaN  \n",
       "4723          Raja Bundela  Zeenat Aman   Nitin Arora  Raj Babbar  \n",
       "9713           Shiva Dagar          NaN           NaN         NaN  \n",
       "13069  Ugresh Prasad Ujala      Santosh           NaN         NaN  \n",
       "13308        Rajesh Patole  Udhav Garje  Rahul Gavane   Govindrao  "
      ]
     },
     "execution_count": 6,
     "metadata": {},
     "output_type": "execute_result"
    }
   ],
   "source": [
    "df[df.duplicated()]"
   ]
  },
  {
   "cell_type": "code",
   "execution_count": 7,
   "id": "1174b7c2",
   "metadata": {},
   "outputs": [
    {
     "name": "stdout",
     "output_type": "stream",
     "text": [
      "Null Values:\n"
     ]
    },
    {
     "data": {
      "text/plain": [
       "Duration    8268\n",
       "Rating      7590\n",
       "Votes       7589\n",
       "Actor 3     3153\n",
       "Actor 2     2385\n",
       "Genre       1877\n",
       "Actor 1     1617\n",
       "Year         529\n",
       "Director     525\n",
       "Name           0\n",
       "dtype: int64"
      ]
     },
     "execution_count": 7,
     "metadata": {},
     "output_type": "execute_result"
    }
   ],
   "source": [
    "print(\"Null Values:\")\n",
    "df.isna().sum().sort_values(ascending=False)"
   ]
  },
  {
   "cell_type": "code",
   "execution_count": 8,
   "id": "dd14b5e8",
   "metadata": {},
   "outputs": [
    {
     "name": "stdout",
     "output_type": "stream",
     "text": [
      "Name -> 13838\n",
      "[' ' '#Gadhvi (He thought he was Gandhi)' '#Homecoming' ... 'Zulmi Raj'\n",
      " 'Zulmi Shikari' 'Zulm-O-Sitam']\n",
      "--------------------------------------------------\n",
      "Year -> 102\n",
      "[   nan -2019. -2021. -2010. -1997. -2005. -2008. -2012. -2014. -2004.\n",
      " -2016. -1991. -1990. -2018. -1987. -1948. -1958. -2017. -2020. -2009.\n",
      " -2002. -1993. -1946. -1994. -2007. -2013. -2003. -1998. -1979. -1951.\n",
      " -1956. -1974. -2015. -2006. -1981. -1985. -2011. -2001. -1967. -1988.\n",
      " -1995. -1959. -1996. -1970. -1976. -2000. -1999. -1973. -1968. -1943.\n",
      " -1953. -1986. -1983. -1989. -1982. -1977. -1957. -1950. -1992. -1969.\n",
      " -1975. -1947. -1972. -1971. -1935. -1978. -1960. -1944. -1963. -1940.\n",
      " -1984. -1934. -1955. -1936. -1980. -1966. -1949. -1962. -1964. -1952.\n",
      " -1933. -1942. -1939. -1954. -1945. -1961. -1965. -1938. -1941. -1931.\n",
      " -1937. -2022. -1932. -1923. -1915. -1928. -1922. -1917. -1913. -1930.\n",
      " -1926. -1914. -1924.]\n",
      "--------------------------------------------------\n",
      "Duration -> 183\n",
      "[nan '109 min' '90 min' '110 min' '105 min' '147 min' '142 min' '59 min'\n",
      " '82 min' '116 min' '96 min' '120 min' '161 min' '166 min' '102 min'\n",
      " '87 min' '132 min' '66 min' '146 min' '112 min' '168 min' '158 min'\n",
      " '126 min' '94 min' '138 min' '124 min' '144 min' '157 min' '136 min'\n",
      " '107 min' '113 min' '80 min' '122 min' '149 min' '148 min' '130 min'\n",
      " '121 min' '188 min' '115 min' '103 min' '114 min' '170 min' '100 min'\n",
      " '99 min' '140 min' '128 min' '93 min' '125 min' '145 min' '75 min'\n",
      " '111 min' '134 min' '85 min' '104 min' '92 min' '137 min' '127 min'\n",
      " '150 min' '119 min' '135 min' '86 min' '76 min' '70 min' '72 min'\n",
      " '151 min' '95 min' '52 min' '89 min' '143 min' '177 min' '117 min'\n",
      " '123 min' '154 min' '88 min' '175 min' '153 min' '78 min' '139 min'\n",
      " '133 min' '101 min' '180 min' '60 min' '46 min' '164 min' '162 min'\n",
      " '171 min' '160 min' '152 min' '62 min' '163 min' '165 min' '141 min'\n",
      " '210 min' '129 min' '156 min' '240 min' '172 min' '155 min' '118 min'\n",
      " '167 min' '106 min' '193 min' '57 min' '108 min' '45 min' '195 min'\n",
      " '174 min' '81 min' '178 min' '58 min' '184 min' '97 min' '98 min'\n",
      " '131 min' '176 min' '169 min' '77 min' '91 min' '84 min' '173 min'\n",
      " '74 min' '67 min' '181 min' '300 min' '79 min' '65 min' '48 min'\n",
      " '183 min' '159 min' '83 min' '68 min' '49 min' '201 min' '64 min'\n",
      " '186 min' '50 min' '69 min' '207 min' '55 min' '61 min' '185 min'\n",
      " '187 min' '216 min' '63 min' '54 min' '198 min' '51 min' '71 min'\n",
      " '73 min' '218 min' '191 min' '321 min' '199 min' '53 min' '56 min'\n",
      " '179 min' '47 min' '206 min' '190 min' '211 min' '247 min' '213 min'\n",
      " 'Romance, Sport' '223 min' '2 min' '189 min' '224 min' '202 min'\n",
      " '255 min' '197 min' '182 min' '214 min' '208 min' '21 min' '200 min'\n",
      " '192 min' '37 min' '261 min' '238 min' '204 min' '235 min' '298 min'\n",
      " '217 min' '250 min']\n",
      "--------------------------------------------------\n",
      "Genre -> 485\n",
      "['Drama' 'Drama, Musical' 'Comedy, Romance' 'Comedy, Drama, Musical'\n",
      " 'Drama, Romance, War' 'Documentary' 'Horror, Mystery, Thriller'\n",
      " 'Action, Crime, Thriller' 'Horror' 'Horror, Romance, Thriller'\n",
      " 'Comedy, Drama, Romance' 'Thriller' 'Comedy, Drama' nan\n",
      " 'Comedy, Drama, Fantasy' 'Comedy, Drama, Family' 'Crime, Drama, Mystery'\n",
      " 'Horror, Thriller' 'Biography' 'Comedy, Horror' 'Action'\n",
      " 'Drama, Horror, Mystery' 'Comedy' 'Action, Thriller' 'Drama, History'\n",
      " 'Drama, History, Sport' 'Horror, Mystery, Romance' 'Horror, Mystery'\n",
      " 'Drama, Horror, Romance' 'Action, Drama, History' 'Action, Drama, War'\n",
      " 'Comedy, Family' 'Adventure, Horror, Mystery' 'Action, Sci-Fi'\n",
      " 'Crime, Mystery, Thriller' 'War' 'Sport' 'Biography, Drama, History'\n",
      " 'Horror, Romance' 'Crime, Drama' 'Drama, Romance' 'Adventure, Drama'\n",
      " 'Comedy, Mystery, Thriller' 'Action, Crime, Drama' 'Crime, Thriller'\n",
      " 'Horror, Sci-Fi, Thriller' 'Crime, Drama, Thriller'\n",
      " 'Drama, Mystery, Thriller' 'Drama, Sport' 'Drama, Family, Musical'\n",
      " 'Action, Comedy' 'Comedy, Thriller' 'Action, Adventure, Fantasy'\n",
      " 'Drama, Romance, Thriller' 'Action, Drama' 'Drama, Horror, Musical'\n",
      " 'Action, Biography, Drama' 'Adventure, Comedy, Drama' 'Mystery'\n",
      " 'Action, Fantasy, Mystery' 'Adventure, Drama, Mystery'\n",
      " 'Mystery, Thriller' 'Adventure' 'Drama, Musical, Thriller'\n",
      " 'Comedy, Crime, Drama' 'Musical, Romance' 'Documentary, Music'\n",
      " 'Documentary, History, Music' 'Drama, Fantasy, Mystery'\n",
      " 'Drama, Family, Sport' 'Drama, Thriller' 'Documentary, Biography'\n",
      " 'Action, Adventure, Comedy' 'Romance' 'Comedy, Drama, Music'\n",
      " 'Comedy, Horror, Mystery' 'Musical' 'Musical, Romance, Drama'\n",
      " 'Family, Romance' 'Action, Sci-Fi, Thriller' 'Action, Drama, Romance'\n",
      " 'Mystery, Romance' 'Fantasy' 'Family' 'Drama, Family'\n",
      " 'Action, Comedy, Drama' 'Action, Drama, Thriller'\n",
      " 'Drama, Horror, Thriller' 'Drama, Musical, Romance' 'Comedy, Sci-Fi'\n",
      " 'Action, Romance' 'Action, Crime' 'Action, Drama, Crime'\n",
      " 'Drama, Family, Music' 'Action, Mystery, Thriller'\n",
      " 'Action, Drama, Family' 'Action, Mystery' 'Drama, History, Romance'\n",
      " 'Crime, Drama, Music' 'Sci-Fi' 'Animation' 'Crime, Mystery, Romance'\n",
      " 'Action, Adventure, Romance' 'Music, Romance' 'Action, Comedy, Crime'\n",
      " 'Comedy, Family, Fantasy' 'Romance, Drama' 'Drama, Family, Romance'\n",
      " 'Romance, Drama, Family' 'Musical, Romance, Thriller'\n",
      " 'Family, Musical, Romance' 'Action, Drama, Fantasy' 'Family, Drama'\n",
      " 'Crime, Drama, Romance' 'Musical, Drama, Romance' 'Drama, Music, Musical'\n",
      " 'Drama, Mystery' 'Adventure, Comedy, Romance' 'Crime, Drama, Horror'\n",
      " 'Family, Music, Musical' 'Action, Musical, Thriller'\n",
      " 'Action, Romance, Thriller' 'Romance, Thriller' 'Drama, Music'\n",
      " 'Crime, Drama, Musical' 'Action, Crime, Mystery'\n",
      " 'Action, Adventure, Thriller' 'Comedy, Romance, Sci-Fi' 'Crime'\n",
      " 'Action, Drama, Mystery' 'Action, Comedy, Thriller' 'Biography, Drama'\n",
      " 'Action, Comedy, Fantasy' 'Drama, Family, Horror'\n",
      " 'Action, Adventure, Family' 'Documentary, Biography, Musical'\n",
      " 'Action, Drama, Musical' 'Adventure, Thriller' 'Crime, Mystery'\n",
      " 'Drama, Crime' 'Drama, Fantasy, Romance' 'Comedy, Romance, Thriller'\n",
      " 'Musical, Comedy, Drama' 'Biography, History, War'\n",
      " 'Action, Comedy, Romance' 'Drama, History, Musical'\n",
      " 'Action, Crime, Horror' 'Adventure, Fantasy' 'Adventure, Drama, Fantasy'\n",
      " 'Adventure, Fantasy, Romance' 'Action, Adventure, Drama'\n",
      " 'Action, Adventure' 'Comedy, Crime' 'Crime, Drama, Fantasy'\n",
      " 'Adventure, Drama, Romance' 'History' 'Drama, Fantasy, Thriller'\n",
      " 'Musical, Fantasy' 'Documentary, Thriller' 'Mystery, Romance, Musical'\n",
      " 'Family, Drama, Romance' 'History, Musical, Romance'\n",
      " 'Musical, Drama, Crime' 'Adventure, Crime, Romance'\n",
      " 'Musical, Thriller, Mystery' 'Drama, Comedy' 'Biography, Drama, Romance'\n",
      " 'Biography, Music' 'Biography, Drama, Music' 'Drama, Sci-Fi'\n",
      " 'Drama, Family, Thriller' 'Comedy, Musical, Romance'\n",
      " 'Drama, Family, Comedy' 'Action, Thriller, Romance'\n",
      " 'Animation, Adventure' 'Action, Crime, Musical' 'Action, Crime, Romance'\n",
      " 'Animation, Action, Adventure' 'Action, Drama, Sport' 'Comedy, History'\n",
      " 'Documentary, History' 'Drama, Comedy, Family' 'Action, Adventure, Crime'\n",
      " 'Documentary, Biography, Music' 'Comedy, Musical'\n",
      " 'Biography, Crime, Thriller' 'Adventure, Mystery, Thriller'\n",
      " 'Biography, Drama, Sport' 'Action, Comedy, Musical'\n",
      " 'Mystery, Romance, Thriller' 'Action, Adventure, Musical'\n",
      " 'Crime, Musical, Mystery' 'Action, Thriller, Crime'\n",
      " 'Adventure, Comedy, Crime' 'Comedy, Horror, Musical' 'Adventure, Family'\n",
      " 'Family, Thriller' 'Drama, Action, Crime' 'Drama, War'\n",
      " 'Action, Drama, Adventure' 'Adventure, Fantasy, History'\n",
      " 'Fantasy, Musical' 'Comedy, Drama, Thriller' 'Drama, Fantasy'\n",
      " 'Musical, Drama' 'Action, Drama, Horror' 'Biography, Crime, Drama'\n",
      " 'Action, Drama, Music' 'Adventure, Drama, Family'\n",
      " 'Drama, Romance, Musical' 'Comedy, Musical, Drama'\n",
      " 'Adventure, Comedy, Musical' 'Crime, Drama, Family'\n",
      " 'Thriller, Musical, Mystery' 'Documentary, Adventure, Crime'\n",
      " 'Drama, Action, Horror' 'Adventure, Crime, Drama'\n",
      " 'Documentary, Biography, Sport' 'Crime, Fantasy, Mystery'\n",
      " 'Documentary, Biography, Drama' 'Action, Fantasy, Thriller'\n",
      " 'Adventure, Drama, History' 'Animation, Drama, History'\n",
      " 'Comedy, Horror, Thriller' 'Drama, Family, History' 'Animation, History'\n",
      " 'Biography, Drama, Musical' 'Music' 'Family, Comedy' 'Adventure, Mystery'\n",
      " 'Family, Fantasy' 'Documentary, History, News' 'Drama, Mystery, Romance'\n",
      " 'Comedy, Fantasy' 'Action, Crime, Family' 'Drama, Musical, Mystery'\n",
      " 'Action, Thriller, Mystery' 'Drama, Family, Fantasy' 'Action, Family'\n",
      " 'Action, Adventure, Mystery' 'Horror, Fantasy' 'Comedy, Action'\n",
      " 'Adventure, Romance' 'Drama, Adventure' 'Animation, Drama, Romance'\n",
      " 'Comedy, Crime, Romance' 'Adventure, Comedy' 'Comedy, Drama, Sport'\n",
      " 'Documentary, Crime, History' 'Musical, Mystery, Drama'\n",
      " 'Adventure, Drama, Sci-Fi' 'Action, Romance, Western'\n",
      " 'Comedy, Fantasy, Romance' 'Animation, Action, Comedy'\n",
      " 'Drama, Fantasy, Sci-Fi' 'Drama, Horror' 'Family, Drama, Comedy'\n",
      " 'Action, Adventure, History' 'Comedy, Family, Romance'\n",
      " 'Biography, History' 'Animation, Family' 'Drama, Fantasy, History'\n",
      " 'Animation, Adventure, Fantasy' 'Adventure, Comedy, Family'\n",
      " 'Drama, History, War' 'Animation, Drama, Fantasy'\n",
      " 'Action, Musical, Romance' 'Crime, Action, Drama'\n",
      " 'Comedy, Romance, Musical' 'Fantasy, Drama' 'Musical, Action, Crime'\n",
      " 'Documentary, Drama' 'Action, Horror, Thriller' 'Action, Horror, Sci-Fi'\n",
      " 'Mystery, Sci-Fi, Thriller' 'Biography, Family' 'Drama, Action, Comedy'\n",
      " 'Drama, Music, Romance' 'Action, Biography, Crime'\n",
      " 'Adventure, Drama, Musical' 'Family, Music, Romance'\n",
      " 'Fantasy, Mystery, Romance' 'Drama, Crime, Family'\n",
      " 'Drama, Family, Action' 'Romance, Comedy, Drama'\n",
      " 'Animation, Adventure, Comedy' 'Sci-Fi, Thriller'\n",
      " 'Romance, Family, Drama' 'Action, Family, Thriller'\n",
      " 'Adventure, Crime, Thriller' 'Drama, Romance, Sport'\n",
      " 'Comedy, Crime, Mystery' 'Adventure, Comedy, Mystery' 'Action, Fantasy'\n",
      " 'Comedy, Mystery' 'Animation, Adventure, Family'\n",
      " 'Adventure, Drama, Music' 'Biography, Drama, War'\n",
      " 'Documentary, Comedy, Drama' 'Musical, Drama, Family'\n",
      " 'Animation, Comedy, Drama' 'Fantasy, Musical, Drama'\n",
      " 'Adventure, Crime, Mystery' 'Comedy, Drama, Mystery' 'Documentary, News'\n",
      " 'Drama, Musical, Family' 'Action, Romance, Drama'\n",
      " 'Comedy, Crime, Thriller' 'Action, Musical' 'Action, History'\n",
      " 'Action, Comedy, Mystery' 'Drama, Family, Mystery'\n",
      " 'Adventure, Drama, Thriller' 'Documentary, Reality-TV'\n",
      " 'Action, Fantasy, Horror' 'Drama, History, Thriller'\n",
      " 'Documentary, Family' 'Documentary, Biography, Family' 'Comedy, Sport'\n",
      " 'Animation, Comedy, Family' 'Crime, Romance, Thriller'\n",
      " 'Comedy, Musical, Action' 'Action, Mystery, Sci-Fi'\n",
      " 'Comedy, Crime, Musical' 'Drama, Adventure, Action' 'History, Romance'\n",
      " 'Reality-TV' 'Fantasy, History' 'Family, Drama, Thriller'\n",
      " 'Musical, Mystery, Thriller' 'Musical, Comedy, Romance'\n",
      " 'Musical, Action, Drama' 'Action, Musical, War' 'Romance, Comedy'\n",
      " 'Horror, Crime, Thriller' 'Crime, Drama, History' 'Comedy, Drama, Horror'\n",
      " 'Crime, Horror, Thriller' 'Animation, Comedy' 'Romance, Action, Crime'\n",
      " 'Musical, Thriller' 'Action, Romance, Comedy' 'Comedy, Family, Musical'\n",
      " 'Horror, Drama, Mystery' 'Thriller, Mystery, Family'\n",
      " 'Comedy, Drama, Sci-Fi' 'Documentary, Adventure'\n",
      " 'Documentary, Biography, Crime' 'Musical, Action' 'Musical, Mystery'\n",
      " 'Action, Crime, Sci-Fi' 'Action, Horror, Mystery' 'Fantasy, Horror'\n",
      " 'Adventure, Family, Fantasy' 'Fantasy, Sci-Fi' 'Comedy, War'\n",
      " 'Romance, Action, Drama' 'Musical, Family, Romance'\n",
      " 'Romance, Drama, Action' 'Family, Comedy, Drama' 'Comedy, Music, Romance'\n",
      " 'Comedy, Family, Sci-Fi' 'Action, Drama, Western'\n",
      " 'Adventure, Romance, Thriller' 'Biography, Comedy, Drama'\n",
      " 'Action, Mystery, Romance' '5' 'Crime, Romance'\n",
      " 'Action, Thriller, Western' 'Crime, Musical, Romance'\n",
      " 'Romance, Thriller, Mystery' 'Drama, Crime, Mystery'\n",
      " 'Biography, Drama, Family' 'Action, Family, Mystery'\n",
      " 'Comedy, Mystery, Romance' 'Drama, Thriller, Action' 'Documentary, Short'\n",
      " 'Documentary, Western' 'Musical, Family, Drama' 'Action, Family, Musical'\n",
      " 'Animation, Family, Musical' 'Drama, Fantasy, Horror'\n",
      " 'Action, Adventure, Sci-Fi' 'Drama, Action, Musical'\n",
      " 'Drama, Musical, Sport' 'Action, Comedy, Horror'\n",
      " 'Drama, Fantasy, Musical' 'Action, Fantasy, Musical' 'Animation, Action'\n",
      " 'Comedy, Music' 'Documentary, Drama, Romance' 'Drama, Music, Thriller'\n",
      " 'Fantasy, Musical, Mystery' 'Drama, Fantasy, War' 'Action, War'\n",
      " 'Action, Adventure, War' 'Horror, Musical' 'Fantasy, Mystery, Thriller'\n",
      " 'Adventure, Biography, Drama' 'Family, Romance, Sci-Fi'\n",
      " 'Drama, Romance, Family' 'Animation, Adventure, Drama'\n",
      " 'Family, Romance, Drama' 'Animation, Action, Sci-Fi'\n",
      " 'Adventure, Comedy, Fantasy' 'Comedy, Crime, Family'\n",
      " 'Horror, Musical, Thriller' 'Biography, Drama, Thriller' 'Drama, Western'\n",
      " 'Romance, Sci-Fi, Thriller' 'Comedy, Musical, Family'\n",
      " 'Comedy, Horror, Romance' 'Thriller, Action' 'Fantasy, Thriller, Action'\n",
      " 'Fantasy, Romance' 'Action, Drama, Comedy' 'Family, Fantasy, Romance'\n",
      " 'Comedy, Crime, Horror' 'Horror, Mystery, Sci-Fi'\n",
      " 'Animation, Action, Drama' 'Family, Mystery'\n",
      " 'Adventure, Biography, History' 'Fantasy, Horror, Mystery'\n",
      " 'Family, Musical' 'Drama, Family, Adventure' 'Crime, Horror, Mystery'\n",
      " 'Documentary, Drama, Fantasy' 'Action, Adventure, Biography'\n",
      " 'Biography, History, Thriller' 'Action, Family, Drama'\n",
      " 'Documentary, Drama, Sport' 'Thriller, Mystery' 'Musical, Drama, Comedy'\n",
      " 'Documentary, History, War' 'Adventure, Horror, Thriller'\n",
      " 'Action, Adventure, Horror' 'Action, Crime, War'\n",
      " 'Adventure, Musical, Romance' 'Action, Fantasy, Sci-Fi'\n",
      " 'Drama, Comedy, Action' 'Documentary, Sport'\n",
      " 'Documentary, Adventure, Music' 'Drama, Action, Family'\n",
      " 'Adventure, History, Thriller' 'Adventure, Horror, Romance'\n",
      " 'Adventure, Crime, Horror' 'Mystery, Musical, Romance'\n",
      " 'Action, Crime, History' 'Documentary, Musical'\n",
      " 'Adventure, Fantasy, Musical' 'Documentary, Family, History'\n",
      " 'Documentary, Drama, Family' 'Drama, Mystery, Sci-Fi'\n",
      " 'Animation, Drama, Musical' 'Drama, History, Mystery'\n",
      " 'Drama, Sport, Thriller' 'Action, Crime, Fantasy'\n",
      " 'Comedy, Musical, Mystery' 'Romance, Musical, Action'\n",
      " 'Musical, Drama, Fantasy' 'Animation, Family, History'\n",
      " 'Action, Drama, News' 'Romance, Musical, Comedy'\n",
      " 'Adventure, Fantasy, Horror' 'Adventure, History'\n",
      " 'Comedy, Drama, History' 'Mystery, Sci-Fi' 'Action, Thriller, War'\n",
      " 'Documentary, Drama, News' 'Documentary, Crime, Mystery'\n",
      " 'Adventure, Horror' 'Animation, Drama, Adventure'\n",
      " 'Crime, Horror, Romance' 'Documentary, Adventure, Drama'\n",
      " 'Documentary, Biography, History' 'Fantasy, Horror, Romance'\n",
      " 'Comedy, Fantasy, Musical' 'Crime, Musical, Thriller' 'Documentary, War'\n",
      " 'Action, Comedy, War' 'Crime, Drama, Sport' 'Musical, Adventure, Drama'\n",
      " 'Horror, Romance, Sci-Fi' 'Musical, Mystery, Romance'\n",
      " 'Romance, Musical, Drama' 'Adventure, Fantasy, Sci-Fi']\n",
      "--------------------------------------------------\n",
      "Rating -> 85\n",
      "[ nan  7.   4.4  4.7  7.4  5.6  4.   6.2  5.9  6.5  5.7  6.3  7.2  6.6\n",
      "  7.3  7.1  6.9  3.5  5.   4.5  6.4  4.1  4.8  8.1  5.5  6.8  6.1  7.7\n",
      "  5.1  7.6  3.1  3.3  7.8  8.4  5.2  4.3  5.8  4.6  7.5  6.7  3.6  3.9\n",
      "  5.4  4.2  5.3  3.4  3.   8.   6.   3.8  7.9  2.7  4.9  2.4  3.7  3.2\n",
      "  2.5  2.8  2.6  2.9  8.2  8.7  8.3  9.3  8.8  2.1  2.3  8.5  8.6  9.\n",
      "  9.6  1.7  9.1  2.   1.4  8.9  1.9  9.4  9.7  1.8  9.2  1.6 14.  10.\n",
      "  2.2  1.1]\n",
      "--------------------------------------------------\n",
      "Votes -> 2035\n",
      "[nan '8' '35' ... '70,344' '408' '1,496']\n",
      "--------------------------------------------------\n",
      "Director -> 5941\n",
      "['J.S. Randhawa' 'Gaurav Bakshi' 'Soumyajit Majumdar' ... 'Mozez Singh'\n",
      " 'Ved Prakash' 'Kiran Thej']\n",
      "--------------------------------------------------\n",
      "Actor 1 -> 4718\n",
      "['Manmauji' 'Rasika Dugal' 'Sayani Gupta' ... 'Meghan Jadhav'\n",
      " 'Roohi Berde' 'Sangeeta Tiwari']\n",
      "--------------------------------------------------\n",
      "Actor 2 -> 4890\n",
      "['Birbal' 'Vivek Ghamande' 'Plabita Borthakur' ... 'Devan Sanjeev'\n",
      " 'Prince Daniel' 'Sarah Jane Dias']\n",
      "--------------------------------------------------\n",
      "Actor 3 -> 4815\n",
      "['Rajendra Bhatia' 'Arvind Jangid' 'Roy Angana' ... 'Shatakshi Gupta'\n",
      " 'Valerie Agha' 'Suparna Anand']\n",
      "--------------------------------------------------\n"
     ]
    }
   ],
   "source": [
    "for col in df.columns:\n",
    "    print(col, '->', df[col].nunique())\n",
    "    print(df[col].unique())\n",
    "    print('-'*50)"
   ]
  },
  {
   "cell_type": "markdown",
   "id": "3825b4b1",
   "metadata": {},
   "source": [
    "# Data Preparation"
   ]
  },
  {
   "cell_type": "code",
   "execution_count": 9,
   "id": "3994b1df",
   "metadata": {},
   "outputs": [
    {
     "name": "stdout",
     "output_type": "stream",
     "text": [
      "Duplicated Rows: 0\n"
     ]
    }
   ],
   "source": [
    "df = df.drop_duplicates()\n",
    "print(\"Duplicated Rows:\",df.duplicated().sum())"
   ]
  },
  {
   "cell_type": "code",
   "execution_count": 10,
   "id": "5228686e",
   "metadata": {},
   "outputs": [
    {
     "data": {
      "text/plain": [
       "7036     14.0\n",
       "8339     10.0\n",
       "5410      9.7\n",
       "2563      9.6\n",
       "11704     9.4\n",
       "5077      9.4\n",
       "Name: Rating, dtype: float64"
      ]
     },
     "execution_count": 10,
     "metadata": {},
     "output_type": "execute_result"
    }
   ],
   "source": [
    "df = df.dropna(subset=['Rating'])\n",
    "df['Rating'].sort_values(ascending=False)[:6]"
   ]
  },
  {
   "cell_type": "code",
   "execution_count": 11,
   "id": "4a5aa5fa",
   "metadata": {},
   "outputs": [
    {
     "data": {
      "text/html": [
       "<div>\n",
       "<style scoped>\n",
       "    .dataframe tbody tr th:only-of-type {\n",
       "        vertical-align: middle;\n",
       "    }\n",
       "\n",
       "    .dataframe tbody tr th {\n",
       "        vertical-align: top;\n",
       "    }\n",
       "\n",
       "    .dataframe thead th {\n",
       "        text-align: right;\n",
       "    }\n",
       "</style>\n",
       "<table border=\"1\" class=\"dataframe\">\n",
       "  <thead>\n",
       "    <tr style=\"text-align: right;\">\n",
       "      <th></th>\n",
       "      <th>Name</th>\n",
       "      <th>Year</th>\n",
       "      <th>Duration</th>\n",
       "      <th>Genre</th>\n",
       "      <th>Rating</th>\n",
       "      <th>Votes</th>\n",
       "      <th>Director</th>\n",
       "      <th>Actor 1</th>\n",
       "      <th>Actor 2</th>\n",
       "      <th>Actor 3</th>\n",
       "    </tr>\n",
       "  </thead>\n",
       "  <tbody>\n",
       "    <tr>\n",
       "      <th>7036</th>\n",
       "      <td>Kabhi Ajnabi Th?(1985)</td>\n",
       "      <td>NaN</td>\n",
       "      <td>Romance, Sport</td>\n",
       "      <td>5</td>\n",
       "      <td>14.0</td>\n",
       "      <td>Vijay Singh</td>\n",
       "      <td>Poonam Dhillon</td>\n",
       "      <td>Sandeep Patil</td>\n",
       "      <td>Debashree Roy</td>\n",
       "      <td>NaN</td>\n",
       "    </tr>\n",
       "  </tbody>\n",
       "</table>\n",
       "</div>"
      ],
      "text/plain": [
       "                        Name  Year        Duration Genre  Rating        Votes  \\\n",
       "7036  Kabhi Ajnabi Th?(1985)   NaN  Romance, Sport     5    14.0  Vijay Singh   \n",
       "\n",
       "            Director        Actor 1        Actor 2 Actor 3  \n",
       "7036  Poonam Dhillon  Sandeep Patil  Debashree Roy     NaN  "
      ]
     },
     "execution_count": 11,
     "metadata": {},
     "output_type": "execute_result"
    }
   ],
   "source": [
    "df[df['Rating']==14.0]"
   ]
  },
  {
   "cell_type": "code",
   "execution_count": 12,
   "id": "64d59c42",
   "metadata": {},
   "outputs": [],
   "source": [
    "df = df.drop(df[df['Rating']==14.0].index)"
   ]
  },
  {
   "cell_type": "code",
   "execution_count": 13,
   "id": "dcab2138",
   "metadata": {},
   "outputs": [
    {
     "data": {
      "text/plain": [
       "1    2019\n",
       "3    2019\n",
       "5    1997\n",
       "6    2005\n",
       "8    2012\n",
       "Name: Year, dtype: int32"
      ]
     },
     "execution_count": 13,
     "metadata": {},
     "output_type": "execute_result"
    }
   ],
   "source": [
    "df['Year'] = np.abs(df['Year'].fillna(df['Year'].mean())).astype(int)\n",
    "df['Year'].head()"
   ]
  },
  {
   "cell_type": "code",
   "execution_count": 14,
   "id": "29e81d19",
   "metadata": {},
   "outputs": [
    {
     "data": {
      "text/plain": [
       "1    109\n",
       "3    110\n",
       "5    147\n",
       "6    142\n",
       "8     82\n",
       "Name: Duration, dtype: int32"
      ]
     },
     "execution_count": 14,
     "metadata": {},
     "output_type": "execute_result"
    }
   ],
   "source": [
    "# removing ' min' part of Duration\n",
    "df['Duration'] = df['Duration'].str.replace(' min','')\n",
    "\n",
    "# replacing Nulls and 'Romance, Sport' with mode_of_duration\n",
    "mode_of_duration = df['Duration'].mode()[0]\n",
    "df['Duration'] = (df['Duration'].replace({np.nan:mode_of_duration,'Romance, Sport':mode_of_duration})).astype(int)\n",
    "df['Duration'].head()"
   ]
  },
  {
   "cell_type": "code",
   "execution_count": 15,
   "id": "2ca80c59",
   "metadata": {},
   "outputs": [
    {
     "data": {
      "text/plain": [
       "1       8\n",
       "3      35\n",
       "5     827\n",
       "6    1086\n",
       "8     326\n",
       "Name: Votes, dtype: int32"
      ]
     },
     "execution_count": 15,
     "metadata": {},
     "output_type": "execute_result"
    }
   ],
   "source": [
    "# removing ',' part of Votes\n",
    "df['Votes'] = df['Votes'].str.replace(',','')\n",
    "\n",
    "# replacing string values with mode of Votes\n",
    "for val in df['Votes'].unique():\n",
    "    try:\n",
    "        if int(val):\n",
    "            pass\n",
    "    except:\n",
    "        df['Votes'] = df['Votes'].replace({val:df['Votes'].mode()[0]})\n",
    "        \n",
    "df['Votes'] = df['Votes'].astype(int)\n",
    "df['Votes'].head()"
   ]
  },
  {
   "cell_type": "code",
   "execution_count": 16,
   "id": "73a7e536",
   "metadata": {},
   "outputs": [
    {
     "data": {
      "text/plain": [
       "Drama          4924\n",
       "Action         2358\n",
       "Romance        1780\n",
       "Comedy         1609\n",
       "Crime          1111\n",
       "Thriller        876\n",
       "Family          663\n",
       "Musical         498\n",
       "Adventure       386\n",
       "Mystery         370\n",
       "Horror          280\n",
       "Fantasy         205\n",
       "Documentary     143\n",
       "Biography       142\n",
       "History         128\n",
       "Animation        73\n",
       "Music            61\n",
       "Sport            50\n",
       "Sci-Fi           37\n",
       "War              34\n",
       "Western           3\n",
       "News              2\n",
       "dtype: int64"
      ]
     },
     "execution_count": 16,
     "metadata": {},
     "output_type": "execute_result"
    }
   ],
   "source": [
    "Genre = df['Genre'].str.get_dummies(sep=', ')\n",
    "Genre.sum().sort_values(ascending=False)"
   ]
  },
  {
   "cell_type": "code",
   "execution_count": 17,
   "id": "34da35f6",
   "metadata": {
    "scrolled": true
   },
   "outputs": [
    {
     "data": {
      "text/html": [
       "<div>\n",
       "<style scoped>\n",
       "    .dataframe tbody tr th:only-of-type {\n",
       "        vertical-align: middle;\n",
       "    }\n",
       "\n",
       "    .dataframe tbody tr th {\n",
       "        vertical-align: top;\n",
       "    }\n",
       "\n",
       "    .dataframe thead th {\n",
       "        text-align: right;\n",
       "    }\n",
       "</style>\n",
       "<table border=\"1\" class=\"dataframe\">\n",
       "  <thead>\n",
       "    <tr style=\"text-align: right;\">\n",
       "      <th></th>\n",
       "      <th>Name</th>\n",
       "      <th>Year</th>\n",
       "      <th>Duration</th>\n",
       "      <th>Rating</th>\n",
       "      <th>Votes</th>\n",
       "      <th>Director</th>\n",
       "      <th>Actor 1</th>\n",
       "      <th>Actor 2</th>\n",
       "      <th>Actor 3</th>\n",
       "      <th>Action</th>\n",
       "      <th>...</th>\n",
       "      <th>Music</th>\n",
       "      <th>Musical</th>\n",
       "      <th>Mystery</th>\n",
       "      <th>News</th>\n",
       "      <th>Romance</th>\n",
       "      <th>Sci-Fi</th>\n",
       "      <th>Sport</th>\n",
       "      <th>Thriller</th>\n",
       "      <th>War</th>\n",
       "      <th>Western</th>\n",
       "    </tr>\n",
       "  </thead>\n",
       "  <tbody>\n",
       "    <tr>\n",
       "      <th>1</th>\n",
       "      <td>#Gadhvi (He thought he was Gandhi)</td>\n",
       "      <td>2019</td>\n",
       "      <td>109</td>\n",
       "      <td>7.0</td>\n",
       "      <td>8</td>\n",
       "      <td>Gaurav Bakshi</td>\n",
       "      <td>Rasika Dugal</td>\n",
       "      <td>Vivek Ghamande</td>\n",
       "      <td>Arvind Jangid</td>\n",
       "      <td>0</td>\n",
       "      <td>...</td>\n",
       "      <td>0</td>\n",
       "      <td>0</td>\n",
       "      <td>0</td>\n",
       "      <td>0</td>\n",
       "      <td>0</td>\n",
       "      <td>0</td>\n",
       "      <td>0</td>\n",
       "      <td>0</td>\n",
       "      <td>0</td>\n",
       "      <td>0</td>\n",
       "    </tr>\n",
       "    <tr>\n",
       "      <th>3</th>\n",
       "      <td>#Yaaram</td>\n",
       "      <td>2019</td>\n",
       "      <td>110</td>\n",
       "      <td>4.4</td>\n",
       "      <td>35</td>\n",
       "      <td>Ovais Khan</td>\n",
       "      <td>Prateik</td>\n",
       "      <td>Ishita Raj</td>\n",
       "      <td>Siddhant Kapoor</td>\n",
       "      <td>0</td>\n",
       "      <td>...</td>\n",
       "      <td>0</td>\n",
       "      <td>0</td>\n",
       "      <td>0</td>\n",
       "      <td>0</td>\n",
       "      <td>1</td>\n",
       "      <td>0</td>\n",
       "      <td>0</td>\n",
       "      <td>0</td>\n",
       "      <td>0</td>\n",
       "      <td>0</td>\n",
       "    </tr>\n",
       "    <tr>\n",
       "      <th>5</th>\n",
       "      <td>...Aur Pyaar Ho Gaya</td>\n",
       "      <td>1997</td>\n",
       "      <td>147</td>\n",
       "      <td>4.7</td>\n",
       "      <td>827</td>\n",
       "      <td>Rahul Rawail</td>\n",
       "      <td>Bobby Deol</td>\n",
       "      <td>Aishwarya Rai Bachchan</td>\n",
       "      <td>Shammi Kapoor</td>\n",
       "      <td>0</td>\n",
       "      <td>...</td>\n",
       "      <td>0</td>\n",
       "      <td>1</td>\n",
       "      <td>0</td>\n",
       "      <td>0</td>\n",
       "      <td>0</td>\n",
       "      <td>0</td>\n",
       "      <td>0</td>\n",
       "      <td>0</td>\n",
       "      <td>0</td>\n",
       "      <td>0</td>\n",
       "    </tr>\n",
       "    <tr>\n",
       "      <th>6</th>\n",
       "      <td>...Yahaan</td>\n",
       "      <td>2005</td>\n",
       "      <td>142</td>\n",
       "      <td>7.4</td>\n",
       "      <td>1086</td>\n",
       "      <td>Shoojit Sircar</td>\n",
       "      <td>Jimmy Sheirgill</td>\n",
       "      <td>Minissha Lamba</td>\n",
       "      <td>Yashpal Sharma</td>\n",
       "      <td>0</td>\n",
       "      <td>...</td>\n",
       "      <td>0</td>\n",
       "      <td>0</td>\n",
       "      <td>0</td>\n",
       "      <td>0</td>\n",
       "      <td>1</td>\n",
       "      <td>0</td>\n",
       "      <td>0</td>\n",
       "      <td>0</td>\n",
       "      <td>1</td>\n",
       "      <td>0</td>\n",
       "    </tr>\n",
       "    <tr>\n",
       "      <th>8</th>\n",
       "      <td>?: A Question Mark</td>\n",
       "      <td>2012</td>\n",
       "      <td>82</td>\n",
       "      <td>5.6</td>\n",
       "      <td>326</td>\n",
       "      <td>Allyson Patel</td>\n",
       "      <td>Yash Dave</td>\n",
       "      <td>Muntazir Ahmad</td>\n",
       "      <td>Kiran Bhatia</td>\n",
       "      <td>0</td>\n",
       "      <td>...</td>\n",
       "      <td>0</td>\n",
       "      <td>0</td>\n",
       "      <td>1</td>\n",
       "      <td>0</td>\n",
       "      <td>0</td>\n",
       "      <td>0</td>\n",
       "      <td>0</td>\n",
       "      <td>1</td>\n",
       "      <td>0</td>\n",
       "      <td>0</td>\n",
       "    </tr>\n",
       "  </tbody>\n",
       "</table>\n",
       "<p>5 rows × 31 columns</p>\n",
       "</div>"
      ],
      "text/plain": [
       "                                 Name  Year  Duration  Rating  Votes  \\\n",
       "1  #Gadhvi (He thought he was Gandhi)  2019       109     7.0      8   \n",
       "3                             #Yaaram  2019       110     4.4     35   \n",
       "5                ...Aur Pyaar Ho Gaya  1997       147     4.7    827   \n",
       "6                           ...Yahaan  2005       142     7.4   1086   \n",
       "8                  ?: A Question Mark  2012        82     5.6    326   \n",
       "\n",
       "         Director          Actor 1                 Actor 2          Actor 3  \\\n",
       "1   Gaurav Bakshi     Rasika Dugal          Vivek Ghamande    Arvind Jangid   \n",
       "3      Ovais Khan          Prateik              Ishita Raj  Siddhant Kapoor   \n",
       "5    Rahul Rawail       Bobby Deol  Aishwarya Rai Bachchan    Shammi Kapoor   \n",
       "6  Shoojit Sircar  Jimmy Sheirgill          Minissha Lamba   Yashpal Sharma   \n",
       "8   Allyson Patel        Yash Dave          Muntazir Ahmad     Kiran Bhatia   \n",
       "\n",
       "   Action  ...  Music  Musical  Mystery  News  Romance  Sci-Fi  Sport  \\\n",
       "1       0  ...      0        0        0     0        0       0      0   \n",
       "3       0  ...      0        0        0     0        1       0      0   \n",
       "5       0  ...      0        1        0     0        0       0      0   \n",
       "6       0  ...      0        0        0     0        1       0      0   \n",
       "8       0  ...      0        0        1     0        0       0      0   \n",
       "\n",
       "   Thriller  War  Western  \n",
       "1         0    0        0  \n",
       "3         0    0        0  \n",
       "5         0    0        0  \n",
       "6         0    1        0  \n",
       "8         1    0        0  \n",
       "\n",
       "[5 rows x 31 columns]"
      ]
     },
     "execution_count": 17,
     "metadata": {},
     "output_type": "execute_result"
    }
   ],
   "source": [
    "df = df.drop('Genre', axis=1).join(Genre)\n",
    "df.head()"
   ]
  },
  {
   "cell_type": "code",
   "execution_count": 18,
   "id": "62010464",
   "metadata": {},
   "outputs": [
    {
     "name": "stdout",
     "output_type": "stream",
     "text": [
      "<class 'pandas.core.frame.DataFrame'>\n",
      "Index: 7918 entries, 1 to 15508\n",
      "Data columns (total 31 columns):\n",
      " #   Column       Non-Null Count  Dtype  \n",
      "---  ------       --------------  -----  \n",
      " 0   Name         7918 non-null   object \n",
      " 1   Year         7918 non-null   int32  \n",
      " 2   Duration     7918 non-null   int32  \n",
      " 3   Rating       7918 non-null   float64\n",
      " 4   Votes        7918 non-null   int32  \n",
      " 5   Director     7913 non-null   object \n",
      " 6   Actor 1      7793 non-null   object \n",
      " 7   Actor 2      7718 non-null   object \n",
      " 8   Actor 3      7620 non-null   object \n",
      " 9   Action       7918 non-null   int64  \n",
      " 10  Adventure    7918 non-null   int64  \n",
      " 11  Animation    7918 non-null   int64  \n",
      " 12  Biography    7918 non-null   int64  \n",
      " 13  Comedy       7918 non-null   int64  \n",
      " 14  Crime        7918 non-null   int64  \n",
      " 15  Documentary  7918 non-null   int64  \n",
      " 16  Drama        7918 non-null   int64  \n",
      " 17  Family       7918 non-null   int64  \n",
      " 18  Fantasy      7918 non-null   int64  \n",
      " 19  History      7918 non-null   int64  \n",
      " 20  Horror       7918 non-null   int64  \n",
      " 21  Music        7918 non-null   int64  \n",
      " 22  Musical      7918 non-null   int64  \n",
      " 23  Mystery      7918 non-null   int64  \n",
      " 24  News         7918 non-null   int64  \n",
      " 25  Romance      7918 non-null   int64  \n",
      " 26  Sci-Fi       7918 non-null   int64  \n",
      " 27  Sport        7918 non-null   int64  \n",
      " 28  Thriller     7918 non-null   int64  \n",
      " 29  War          7918 non-null   int64  \n",
      " 30  Western      7918 non-null   int64  \n",
      "dtypes: float64(1), int32(3), int64(22), object(5)\n",
      "memory usage: 2.1+ MB\n"
     ]
    }
   ],
   "source": [
    "df.info()"
   ]
  },
  {
   "cell_type": "markdown",
   "id": "414986a4",
   "metadata": {},
   "source": [
    "# Analyze data and provide some trends"
   ]
  },
  {
   "cell_type": "markdown",
   "id": "f87c3a28",
   "metadata": {},
   "source": [
    "- Year with best rating\n",
    "- Does length of movie have any impact with the rating?\n",
    "- Top 10 movies according to rating per year and overall.\n",
    "- Number of popular movies released each year.\n",
    "- Counting the number of votes which movies preformed better in rating per year and overall.\n",
    "- Any other trends or future prediction you may have\n",
    "- Which director directed the most movies\n",
    "- Which actor starred in the movie\n",
    "- Any other trends you can find"
   ]
  },
  {
   "cell_type": "markdown",
   "id": "fbb5dd60",
   "metadata": {},
   "source": [
    "**Year with best rating**"
   ]
  },
  {
   "cell_type": "code",
   "execution_count": 19,
   "id": "18bdea1b",
   "metadata": {},
   "outputs": [
    {
     "data": {
      "image/png": "[encoded data removed]",
      "text/plain": [
       "<Figure size 640x480 with 1 Axes>"
      ]
     },
     "metadata": {},
     "output_type": "display_data"
    }
   ],
   "source": [
    "sns.lineplot(data=df, x='Year', y='Rating', errorbar=None)\n",
    "plt.show()"
   ]
  },
  {
   "cell_type": "markdown",
   "id": "62c58158",
   "metadata": {},
   "source": [
    "**Does length of movie have any impact with the rating?**"
   ]
  },
  {
   "cell_type": "code",
   "execution_count": 20,
   "id": "0b67112c",
   "metadata": {},
   "outputs": [
    {
     "name": "stdout",
     "output_type": "stream",
     "text": [
      "Duration\n",
      "94     10.0\n",
      "79      9.7\n",
      "120     9.6\n",
      "93      9.4\n",
      "113     9.4\n",
      "Name: Rating, dtype: float64\n"
     ]
    }
   ],
   "source": [
    "bestD_rates = df.groupby('Duration')['Rating'].max().sort_values(ascending=False).iloc[:5]\n",
    "print(bestD_rates)"
   ]
  },
  {
   "cell_type": "code",
   "execution_count": 21,
   "id": "c8d865b3",
   "metadata": {},
   "outputs": [
    {
     "data": {
      "image/png": "[encoded data removed]",
      "text/plain": [
       "<Figure size 640x480 with 1 Axes>"
      ]
     },
     "metadata": {},
     "output_type": "display_data"
    }
   ],
   "source": [
    "sns.lineplot(data=df, x='Duration', y='Rating', errorbar=None)\n",
    "plt.show()"
   ]
  },
  {
   "cell_type": "markdown",
   "id": "cda78cba",
   "metadata": {},
   "source": [
    "**Top 10 movies according to rating per year and overall**"
   ]
  },
  {
   "cell_type": "code",
   "execution_count": 22,
   "id": "3bd403b7",
   "metadata": {
    "scrolled": true
   },
   "outputs": [
    {
     "name": "stdout",
     "output_type": "stream",
     "text": [
      "Year\n",
      "2020    10.0\n",
      "2021     9.7\n",
      "2019     9.4\n",
      "2017     9.4\n",
      "2018     9.3\n",
      "2007     9.2\n",
      "2015     9.2\n",
      "2011     9.1\n",
      "1997     9.1\n",
      "1938     9.0\n",
      "Name: Rating, dtype: float64\n"
     ]
    }
   ],
   "source": [
    "bestY_rates = df.groupby('Year')['Rating'].max().sort_values(ascending=False).iloc[:10]\n",
    "print(bestY_rates)"
   ]
  },
  {
   "cell_type": "markdown",
   "id": "56511eef",
   "metadata": {},
   "source": [
    "**Number of popular movies released each year**"
   ]
  },
  {
   "cell_type": "code",
   "execution_count": 23,
   "id": "7f83bc77",
   "metadata": {},
   "outputs": [
    {
     "name": "stdout",
     "output_type": "stream",
     "text": [
      "Popular movies with rating > 9.0\n"
     ]
    },
    {
     "data": {
      "text/plain": [
       "Year\n",
       "2021    8\n",
       "2019    6\n",
       "2020    6\n",
       "2018    3\n",
       "1997    1\n",
       "2007    1\n",
       "2011    1\n",
       "2015    1\n",
       "2017    1\n",
       "Name: Rating, dtype: int64"
      ]
     },
     "execution_count": 23,
     "metadata": {},
     "output_type": "execute_result"
    }
   ],
   "source": [
    "print(\"Popular movies with rating > 9.0\")\n",
    "df[df['Rating']>9.0].groupby('Year')['Rating'].count().sort_values(ascending=False)"
   ]
  },
  {
   "cell_type": "markdown",
   "id": "b8ae4303",
   "metadata": {},
   "source": [
    "**Counting the number of votes which movies preformed better in rating per year and overall**"
   ]
  },
  {
   "cell_type": "code",
   "execution_count": 24,
   "id": "d06e11cf",
   "metadata": {},
   "outputs": [
    {
     "name": "stdout",
     "output_type": "stream",
     "text": [
      "Number of Votes per year when rating > 9.0\n"
     ]
    },
    {
     "data": {
      "text/plain": [
       "Year\n",
       "2020    83153\n",
       "2021     4315\n",
       "2019      169\n",
       "2018      167\n",
       "2011       99\n",
       "2015       97\n",
       "1997       44\n",
       "2007       36\n",
       "2017        5\n",
       "Name: Votes, dtype: int32"
      ]
     },
     "execution_count": 24,
     "metadata": {},
     "output_type": "execute_result"
    }
   ],
   "source": [
    "print(\"Number of Votes per year when rating > 9.0\")\n",
    "df[df['Rating']>9.0].groupby('Year')['Votes'].sum().sort_values(ascending=False)"
   ]
  },
  {
   "cell_type": "markdown",
   "id": "207a48f6",
   "metadata": {},
   "source": [
    "**Any other trends or future prediction you may have**"
   ]
  },
  {
   "cell_type": "code",
   "execution_count": 25,
   "id": "1007b16f",
   "metadata": {},
   "outputs": [
    {
     "data": {
      "image/png": "[encoded data removed]",
      "text/plain": [
       "<Figure size 640x480 with 1 Axes>"
      ]
     },
     "metadata": {},
     "output_type": "display_data"
    }
   ],
   "source": [
    "sns.lineplot(data=df, x='Year', y='Rating',hue='Drama', errorbar=None)\n",
    "plt.show()"
   ]
  },
  {
   "cell_type": "markdown",
   "id": "52f2174d",
   "metadata": {},
   "source": [
    "**Which director directed the most movies**"
   ]
  },
  {
   "cell_type": "code",
   "execution_count": 26,
   "id": "602c5162",
   "metadata": {},
   "outputs": [
    {
     "data": {
      "text/plain": [
       "Director\n",
       "Mahesh Bhatt            47\n",
       "David Dhawan            43\n",
       "Hrishikesh Mukherjee    42\n",
       "Shakti Samanta          39\n",
       "Kanti Shah              38\n",
       "Name: count, dtype: int64"
      ]
     },
     "execution_count": 26,
     "metadata": {},
     "output_type": "execute_result"
    }
   ],
   "source": [
    "df['Director'].value_counts().sort_values(ascending=False)[:5]"
   ]
  },
  {
   "cell_type": "code",
   "execution_count": 27,
   "id": "f2e3bdc7",
   "metadata": {},
   "outputs": [],
   "source": [
    "df = df.drop(['Name','Director', 'Actor 1', 'Actor 2', 'Actor 3'], axis=1)"
   ]
  },
  {
   "cell_type": "code",
   "execution_count": 28,
   "id": "f89b2e69",
   "metadata": {},
   "outputs": [
    {
     "data": {
      "image/png": "[encoded data removed]",
      "text/plain": [
       "<Figure size 640x480 with 2 Axes>"
      ]
     },
     "metadata": {},
     "output_type": "display_data"
    }
   ],
   "source": [
    "sns.heatmap(df.corr(), cmap=\"YlGnBu\")\n",
    "plt.show()"
   ]
  },
  {
   "cell_type": "markdown",
   "id": "bef4c3b2",
   "metadata": {},
   "source": [
    "# Building Machine Learning Model"
   ]
  },
  {
   "cell_type": "code",
   "execution_count": 29,
   "id": "ef46f9e4",
   "metadata": {},
   "outputs": [],
   "source": [
    "# split data and score model\n",
    "from sklearn.model_selection import train_test_split, GridSearchCV\n",
    "\n",
    "# ML models\n",
    "from sklearn.linear_model import LinearRegression\n",
    "from sklearn.ensemble import RandomForestRegressor\n",
    "from xgboost import XGBRegressor"
   ]
  },
  {
   "cell_type": "code",
   "execution_count": 30,
   "id": "b11bb6af",
   "metadata": {},
   "outputs": [
    {
     "name": "stdout",
     "output_type": "stream",
     "text": [
      "Train Score: 16.39%\n",
      "Test Score: 18.06%\n"
     ]
    }
   ],
   "source": [
    "X = df.drop(['Rating'],axis=1)\n",
    "y = df['Rating']\n",
    "\n",
    "x_train, x_test, y_train, y_test = train_test_split(X, y, test_size=0.2, random_state=42)\n",
    "\n",
    "regr = LinearRegression()\n",
    "regr.fit(x_train, y_train)\n",
    "y_pred = regr.predict(x_test)\n",
    "\n",
    "print(f'Train Score: {regr.score(x_train, y_train)*100:.2f}%')\n",
    "print(f'Test Score: {regr.score(x_test, y_test)*100:.2f}%')"
   ]
  },
  {
   "cell_type": "code",
   "execution_count": 31,
   "id": "1fee1235",
   "metadata": {
    "scrolled": true
   },
   "outputs": [
    {
     "name": "stdout",
     "output_type": "stream",
     "text": [
      "Train Score: 0.811079276439026\n",
      "Model Score: 0.3514743258713615\n"
     ]
    },
    {
     "data": {
      "text/html": [
       "<style>#sk-container-id-1 {color: black;background-color: white;}#sk-container-id-1 pre{padding: 0;}#sk-container-id-1 div.sk-toggleable {background-color: white;}#sk-container-id-1 label.sk-toggleable__label {cursor: pointer;display: block;width: 100%;margin-bottom: 0;padding: 0.3em;box-sizing: border-box;text-align: center;}#sk-container-id-1 label.sk-toggleable__label-arrow:before {content: \"▸\";float: left;margin-right: 0.25em;color: #696969;}#sk-container-id-1 label.sk-toggleable__label-arrow:hover:before {color: black;}#sk-container-id-1 div.sk-estimator:hover label.sk-toggleable__label-arrow:before {color: black;}#sk-container-id-1 div.sk-toggleable__content {max-height: 0;max-width: 0;overflow: hidden;text-align: left;background-color: #f0f8ff;}#sk-container-id-1 div.sk-toggleable__content pre {margin: 0.2em;color: black;border-radius: 0.25em;background-color: #f0f8ff;}#sk-container-id-1 input.sk-toggleable__control:checked~div.sk-toggleable__content {max-height: 200px;max-width: 100%;overflow: auto;}#sk-container-id-1 input.sk-toggleable__control:checked~label.sk-toggleable__label-arrow:before {content: \"▾\";}#sk-container-id-1 div.sk-estimator input.sk-toggleable__control:checked~label.sk-toggleable__label {background-color: #d4ebff;}#sk-container-id-1 div.sk-label input.sk-toggleable__control:checked~label.sk-toggleable__label {background-color: #d4ebff;}#sk-container-id-1 input.sk-hidden--visually {border: 0;clip: rect(1px 1px 1px 1px);clip: rect(1px, 1px, 1px, 1px);height: 1px;margin: -1px;overflow: hidden;padding: 0;position: absolute;width: 1px;}#sk-container-id-1 div.sk-estimator {font-family: monospace;background-color: #f0f8ff;border: 1px dotted black;border-radius: 0.25em;box-sizing: border-box;margin-bottom: 0.5em;}#sk-container-id-1 div.sk-estimator:hover {background-color: #d4ebff;}#sk-container-id-1 div.sk-parallel-item::after {content: \"\";width: 100%;border-bottom: 1px solid gray;flex-grow: 1;}#sk-container-id-1 div.sk-label:hover label.sk-toggleable__label {background-color: #d4ebff;}#sk-container-id-1 div.sk-serial::before {content: \"\";position: absolute;border-left: 1px solid gray;box-sizing: border-box;top: 0;bottom: 0;left: 50%;z-index: 0;}#sk-container-id-1 div.sk-serial {display: flex;flex-direction: column;align-items: center;background-color: white;padding-right: 0.2em;padding-left: 0.2em;position: relative;}#sk-container-id-1 div.sk-item {position: relative;z-index: 1;}#sk-container-id-1 div.sk-parallel {display: flex;align-items: stretch;justify-content: center;background-color: white;position: relative;}#sk-container-id-1 div.sk-item::before, #sk-container-id-1 div.sk-parallel-item::before {content: \"\";position: absolute;border-left: 1px solid gray;box-sizing: border-box;top: 0;bottom: 0;left: 50%;z-index: -1;}#sk-container-id-1 div.sk-parallel-item {display: flex;flex-direction: column;z-index: 1;position: relative;background-color: white;}#sk-container-id-1 div.sk-parallel-item:first-child::after {align-self: flex-end;width: 50%;}#sk-container-id-1 div.sk-parallel-item:last-child::after {align-self: flex-start;width: 50%;}#sk-container-id-1 div.sk-parallel-item:only-child::after {width: 0;}#sk-container-id-1 div.sk-dashed-wrapped {border: 1px dashed gray;margin: 0 0.4em 0.5em 0.4em;box-sizing: border-box;padding-bottom: 0.4em;background-color: white;}#sk-container-id-1 div.sk-label label {font-family: monospace;font-weight: bold;display: inline-block;line-height: 1.2em;}#sk-container-id-1 div.sk-label-container {text-align: center;}#sk-container-id-1 div.sk-container {/* jupyter's `normalize.less` sets `[hidden] { display: none; }` but bootstrap.min.css set `[hidden] { display: none !important; }` so we also need the `!important` here to be able to override the default hidden behavior on the sphinx rendered scikit-learn.org. See: https://github.com/scikit-learn/scikit-learn/issues/21755 */display: inline-block !important;position: relative;}#sk-container-id-1 div.sk-text-repr-fallback {display: none;}</style><div id=\"sk-container-id-1\" class=\"sk-top-container\"><div class=\"sk-text-repr-fallback\"><pre>RandomForestRegressor(max_depth=30, min_samples_leaf=2, n_estimators=500,\n",
       "                      random_state=42)</pre><b>In a Jupyter environment, please rerun this cell to show the HTML representation or trust the notebook. <br />On GitHub, the HTML representation is unable to render, please try loading this page with nbviewer.org.</b></div><div class=\"sk-container\" hidden><div class=\"sk-item\"><div class=\"sk-estimator sk-toggleable\"><input class=\"sk-toggleable__control sk-hidden--visually\" id=\"sk-estimator-id-1\" type=\"checkbox\" checked><label for=\"sk-estimator-id-1\" class=\"sk-toggleable__label sk-toggleable__label-arrow\">RandomForestRegressor</label><div class=\"sk-toggleable__content\"><pre>RandomForestRegressor(max_depth=30, min_samples_leaf=2, n_estimators=500,\n",
       "                      random_state=42)</pre></div></div></div></div></div>"
      ],
      "text/plain": [
       "RandomForestRegressor(max_depth=30, min_samples_leaf=2, n_estimators=500,\n",
       "                      random_state=42)"
      ]
     },
     "execution_count": 31,
     "metadata": {},
     "output_type": "execute_result"
    }
   ],
   "source": [
    "param_grid = {\n",
    "    'random_state': [42],\n",
    "    'max_depth': [30],\n",
    "    'min_samples_leaf': [2],\n",
    "    'n_estimators': [500]\n",
    "}\n",
    "\n",
    "RF_regr = RandomForestRegressor()\n",
    "model = GridSearchCV(estimator=RF_regr, param_grid=param_grid, cv=2).fit(x_train, y_train)\n",
    "\n",
    "y_pred2 = model.predict(x_test)\n",
    "\n",
    "print('Train Score:',model.score(x_train, y_train))\n",
    "print('Model Score:',model.score(x_test, y_test))\n",
    "\n",
    "model.best_estimator_"
   ]
  },
  {
   "cell_type": "code",
   "execution_count": 32,
   "id": "aaaec568",
   "metadata": {
    "scrolled": true
   },
   "outputs": [
    {
     "name": "stdout",
     "output_type": "stream",
     "text": [
      "Train Score: 0.6172093960545295\n",
      "Model Score: 0.3854178147320788\n"
     ]
    },
    {
     "data": {
      "text/html": [
       "<style>#sk-container-id-2 {color: black;background-color: white;}#sk-container-id-2 pre{padding: 0;}#sk-container-id-2 div.sk-toggleable {background-color: white;}#sk-container-id-2 label.sk-toggleable__label {cursor: pointer;display: block;width: 100%;margin-bottom: 0;padding: 0.3em;box-sizing: border-box;text-align: center;}#sk-container-id-2 label.sk-toggleable__label-arrow:before {content: \"▸\";float: left;margin-right: 0.25em;color: #696969;}#sk-container-id-2 label.sk-toggleable__label-arrow:hover:before {color: black;}#sk-container-id-2 div.sk-estimator:hover label.sk-toggleable__label-arrow:before {color: black;}#sk-container-id-2 div.sk-toggleable__content {max-height: 0;max-width: 0;overflow: hidden;text-align: left;background-color: #f0f8ff;}#sk-container-id-2 div.sk-toggleable__content pre {margin: 0.2em;color: black;border-radius: 0.25em;background-color: #f0f8ff;}#sk-container-id-2 input.sk-toggleable__control:checked~div.sk-toggleable__content {max-height: 200px;max-width: 100%;overflow: auto;}#sk-container-id-2 input.sk-toggleable__control:checked~label.sk-toggleable__label-arrow:before {content: \"▾\";}#sk-container-id-2 div.sk-estimator input.sk-toggleable__control:checked~label.sk-toggleable__label {background-color: #d4ebff;}#sk-container-id-2 div.sk-label input.sk-toggleable__control:checked~label.sk-toggleable__label {background-color: #d4ebff;}#sk-container-id-2 input.sk-hidden--visually {border: 0;clip: rect(1px 1px 1px 1px);clip: rect(1px, 1px, 1px, 1px);height: 1px;margin: -1px;overflow: hidden;padding: 0;position: absolute;width: 1px;}#sk-container-id-2 div.sk-estimator {font-family: monospace;background-color: #f0f8ff;border: 1px dotted black;border-radius: 0.25em;box-sizing: border-box;margin-bottom: 0.5em;}#sk-container-id-2 div.sk-estimator:hover {background-color: #d4ebff;}#sk-container-id-2 div.sk-parallel-item::after {content: \"\";width: 100%;border-bottom: 1px solid gray;flex-grow: 1;}#sk-container-id-2 div.sk-label:hover label.sk-toggleable__label {background-color: #d4ebff;}#sk-container-id-2 div.sk-serial::before {content: \"\";position: absolute;border-left: 1px solid gray;box-sizing: border-box;top: 0;bottom: 0;left: 50%;z-index: 0;}#sk-container-id-2 div.sk-serial {display: flex;flex-direction: column;align-items: center;background-color: white;padding-right: 0.2em;padding-left: 0.2em;position: relative;}#sk-container-id-2 div.sk-item {position: relative;z-index: 1;}#sk-container-id-2 div.sk-parallel {display: flex;align-items: stretch;justify-content: center;background-color: white;position: relative;}#sk-container-id-2 div.sk-item::before, #sk-container-id-2 div.sk-parallel-item::before {content: \"\";position: absolute;border-left: 1px solid gray;box-sizing: border-box;top: 0;bottom: 0;left: 50%;z-index: -1;}#sk-container-id-2 div.sk-parallel-item {display: flex;flex-direction: column;z-index: 1;position: relative;background-color: white;}#sk-container-id-2 div.sk-parallel-item:first-child::after {align-self: flex-end;width: 50%;}#sk-container-id-2 div.sk-parallel-item:last-child::after {align-self: flex-start;width: 50%;}#sk-container-id-2 div.sk-parallel-item:only-child::after {width: 0;}#sk-container-id-2 div.sk-dashed-wrapped {border: 1px dashed gray;margin: 0 0.4em 0.5em 0.4em;box-sizing: border-box;padding-bottom: 0.4em;background-color: white;}#sk-container-id-2 div.sk-label label {font-family: monospace;font-weight: bold;display: inline-block;line-height: 1.2em;}#sk-container-id-2 div.sk-label-container {text-align: center;}#sk-container-id-2 div.sk-container {/* jupyter's `normalize.less` sets `[hidden] { display: none; }` but bootstrap.min.css set `[hidden] { display: none !important; }` so we also need the `!important` here to be able to override the default hidden behavior on the sphinx rendered scikit-learn.org. See: https://github.com/scikit-learn/scikit-learn/issues/21755 */display: inline-block !important;position: relative;}#sk-container-id-2 div.sk-text-repr-fallback {display: none;}</style><div id=\"sk-container-id-2\" class=\"sk-top-container\"><div class=\"sk-text-repr-fallback\"><pre>XGBRegressor(base_score=None, booster=None, callbacks=None,\n",
       "             colsample_bylevel=None, colsample_bynode=None,\n",
       "             colsample_bytree=0.7, early_stopping_rounds=None,\n",
       "             enable_categorical=False, eval_metric=None, feature_types=None,\n",
       "             gamma=None, gpu_id=None, grow_policy=None, importance_type=None,\n",
       "             interaction_constraints=None, learning_rate=0.03, max_bin=None,\n",
       "             max_cat_threshold=None, max_cat_to_onehot=None,\n",
       "             max_delta_step=None, max_depth=6, max_leaves=None,\n",
       "             min_child_weight=2, missing=nan, monotone_constraints=None,\n",
       "             n_estimators=500, n_jobs=None, num_parallel_tree=None,\n",
       "             predictor=None, random_state=42, ...)</pre><b>In a Jupyter environment, please rerun this cell to show the HTML representation or trust the notebook. <br />On GitHub, the HTML representation is unable to render, please try loading this page with nbviewer.org.</b></div><div class=\"sk-container\" hidden><div class=\"sk-item\"><div class=\"sk-estimator sk-toggleable\"><input class=\"sk-toggleable__control sk-hidden--visually\" id=\"sk-estimator-id-2\" type=\"checkbox\" checked><label for=\"sk-estimator-id-2\" class=\"sk-toggleable__label sk-toggleable__label-arrow\">XGBRegressor</label><div class=\"sk-toggleable__content\"><pre>XGBRegressor(base_score=None, booster=None, callbacks=None,\n",
       "             colsample_bylevel=None, colsample_bynode=None,\n",
       "             colsample_bytree=0.7, early_stopping_rounds=None,\n",
       "             enable_categorical=False, eval_metric=None, feature_types=None,\n",
       "             gamma=None, gpu_id=None, grow_policy=None, importance_type=None,\n",
       "             interaction_constraints=None, learning_rate=0.03, max_bin=None,\n",
       "             max_cat_threshold=None, max_cat_to_onehot=None,\n",
       "             max_delta_step=None, max_depth=6, max_leaves=None,\n",
       "             min_child_weight=2, missing=nan, monotone_constraints=None,\n",
       "             n_estimators=500, n_jobs=None, num_parallel_tree=None,\n",
       "             predictor=None, random_state=42, ...)</pre></div></div></div></div></div>"
      ],
      "text/plain": [
       "XGBRegressor(base_score=None, booster=None, callbacks=None,\n",
       "             colsample_bylevel=None, colsample_bynode=None,\n",
       "             colsample_bytree=0.7, early_stopping_rounds=None,\n",
       "             enable_categorical=False, eval_metric=None, feature_types=None,\n",
       "             gamma=None, gpu_id=None, grow_policy=None, importance_type=None,\n",
       "             interaction_constraints=None, learning_rate=0.03, max_bin=None,\n",
       "             max_cat_threshold=None, max_cat_to_onehot=None,\n",
       "             max_delta_step=None, max_depth=6, max_leaves=None,\n",
       "             min_child_weight=2, missing=nan, monotone_constraints=None,\n",
       "             n_estimators=500, n_jobs=None, num_parallel_tree=None,\n",
       "             predictor=None, random_state=42, ...)"
      ]
     },
     "execution_count": 32,
     "metadata": {},
     "output_type": "execute_result"
    }
   ],
   "source": [
    "param_grid = {\n",
    "    'random_state': [42],\n",
    "    'learning_rate': [.03], #so called `eta` value\n",
    "    'max_depth': [6],\n",
    "    'min_child_weight': [2, 3],\n",
    "    'subsample': [0.7],\n",
    "    'colsample_bytree': [0.7],\n",
    "    'n_estimators': [500]\n",
    "}\n",
    "\n",
    "XGB_regr = XGBRegressor()\n",
    "model = GridSearchCV(estimator=XGB_regr, param_grid=param_grid, cv=2, n_jobs=-1).fit(x_train, y_train)\n",
    "\n",
    "y_pred3 = model.predict(x_test)\n",
    "\n",
    "print('Train Score:',model.score(x_train, y_train))\n",
    "print('Model Score:',model.score(x_test, y_test))\n",
    "\n",
    "model.best_estimator_"
   ]
  },
  {
   "cell_type": "markdown",
   "id": "1e295c74",
   "metadata": {},
   "source": [
    "### Note:\n",
    "\n",
    "**The Model's score is very low because incompleteness of data with features that really effect on rating, there is a lot factors that missing..**"
   ]
  }
 ],
 "metadata": {
  "kernelspec": {
   "display_name": "Python 3 (ipykernel)",
   "language": "python",
   "name": "python3"
  },
  "language_info": {
   "codemirror_mode": {
    "name": "ipython",
    "version": 3
   },
   "file_extension": ".py",
   "mimetype": "text/x-python",
   "name": "python",
   "nbconvert_exporter": "python",
   "pygments_lexer": "ipython3",
   "version": "3.11.5"
  }
 },
 "nbformat": 4,
 "nbformat_minor": 5
}
